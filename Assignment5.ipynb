{
 "cells": [
  {
   "cell_type": "code",
   "execution_count": 1,
   "metadata": {},
   "outputs": [
    {
     "name": "stdout",
     "output_type": "stream",
     "text": [
      "Input a number to compute the factiorial : 4\n",
      "24\n"
     ]
    }
   ],
   "source": [
    "def factorial(f):\n",
    "    if f == 0:\n",
    "        return 1\n",
    "    else:\n",
    "        return f * factorial(f-1)\n",
    "f=int(input(\"Input a number to compute the factiorial : \"))\n",
    "print(factorial(f))"
   ]
  },
  {
   "cell_type": "code",
   "execution_count": 3,
   "metadata": {},
   "outputs": [
    {
     "name": "stdout",
     "output_type": "stream",
     "text": [
      "No. of Upper case letters : 2\n",
      "No. of Lower case letters: 10\n"
     ]
    }
   ],
   "source": [
    "def Cases(string):\n",
    "    upper = 0\n",
    "    lower = 0\n",
    "    for i in string:\n",
    "        if i >='A' and i <= 'Z':\n",
    "            upper += 1\n",
    "        elif i >= 'a' and i <= 'z':\n",
    "            lower += 1\n",
    "    print(\"No. of Upper case letters : \" + str(upper))\n",
    "    print(\"No. of Lower case letters: \" + str(lower))\n",
    "\n",
    "Cases(\"Write a String?\")"
   ]
  },
  {
   "cell_type": "code",
   "execution_count": 11,
   "metadata": {},
   "outputs": [
    {
     "name": "stdout",
     "output_type": "stream",
     "text": [
      "[2, 4, 6, 12]\n"
     ]
    }
   ],
   "source": [
    "def even (e):\n",
    "    list = []\n",
    "    for n in e:\n",
    "        if n % 2 == 0:\n",
    "            list.append(n)\n",
    "    return list\n",
    "print(even([1, 2, 3, 4, 5, 6, 12, 9]))"
   ]
  },
  {
   "cell_type": "code",
   "execution_count": 28,
   "metadata": {},
   "outputs": [
    {
     "name": "stdout",
     "output_type": "stream",
     "text": [
      "Please input the string: madam\n",
      "The string is palindrome\n"
     ]
    }
   ],
   "source": [
    "def isPalindrome(s):\n",
    "    rev = ''.join(reversed(s)) \n",
    " \n",
    "    if (s == rev): \n",
    "        return True\n",
    "    return False \n",
    "s = input(\"Please input the string: \")\n",
    "ans = isPalindrome(s) \n",
    "  \n",
    "if (ans): \n",
    "    print(\"The string is palindrome\") \n",
    "else: \n",
    "    print(\"The sring is not palindrome\") \n"
   ]
  },
  {
   "cell_type": "code",
   "execution_count": 29,
   "metadata": {},
   "outputs": [
    {
     "name": "stdout",
     "output_type": "stream",
     "text": [
      "Input the number :3\n",
      "True\n"
     ]
    }
   ],
   "source": [
    "def prime(n):\n",
    "    if (n==1):\n",
    "        return False\n",
    "           \n",
    "    elif (n==2):\n",
    "        return True;\n",
    "        \n",
    "    else:\n",
    "        for x in range(2,n):\n",
    "            if(n % x==0):\n",
    "                  return False\n",
    "            return True             \n",
    "print(prime(int(input(\"Input the number :\"))))\n"
   ]
  },
  {
   "cell_type": "code",
   "execution_count": 26,
   "metadata": {},
   "outputs": [
    {
     "name": "stdout",
     "output_type": "stream",
     "text": [
      "These are the items user bought from the market ;  \n",
      "Rice = 10kg\n",
      "Flour = 20kg\n",
      "Juices = 5Packs\n",
      "Eggs = 4dozen\n",
      "Onions = 5kg\n",
      "CookingOil = 2kg\n"
     ]
    }
   ],
   "source": [
    " def shopping_display(items):\n",
    "    print(\"These are the items user bought from the market ;  \" + items)\n",
    "    \n",
    "shopping_display(\"\\nRice = 10kg\\nFlour = 20kg\\nJuices = 5Packs\\nEggs = 4dozen\\nOnions = 5kg\\nCookingOil = 2kg\")\n"
   ]
  },
  {
   "cell_type": "code",
   "execution_count": null,
   "metadata": {},
   "outputs": [],
   "source": []
  }
 ],
 "metadata": {
  "kernelspec": {
   "display_name": "Python 3",
   "language": "python",
   "name": "python3"
  },
  "language_info": {
   "codemirror_mode": {
    "name": "ipython",
    "version": 3
   },
   "file_extension": ".py",
   "mimetype": "text/x-python",
   "name": "python",
   "nbconvert_exporter": "python",
   "pygments_lexer": "ipython3",
   "version": "3.7.4"
  }
 },
 "nbformat": 4,
 "nbformat_minor": 2
}
